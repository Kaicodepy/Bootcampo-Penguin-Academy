{
 "cells": [
  {
   "cell_type": "markdown",
   "id": "0d78d958",
   "metadata": {},
   "source": [
    "Escribe un programa que pregunte al usuario por su edad y determine si tiene edad suficiente para comprar y consumir alcohol.\n",
    "Si el usuario tiene mas de 18 pero menos de 21 impirmir \"Podes tomar pero no comprar\"\n",
    "Si el usuario tiene menos de 18 imprimir \"Juguito nomas\"\n",
    "Si el usuario tiene mas de 21 imprimir \"Hace lo que quieras\""
   ]
  },
  {
   "cell_type": "code",
   "execution_count": null,
   "id": "4c633d6d",
   "metadata": {},
   "outputs": [],
   "source": [
    "\n",
    "edad = int(input('Ingrese su Edad'))\n",
    "\n",
    "if edad < 18:\n",
    "    print('Juguito nomas')\n",
    "elif edad >= 21:\n",
    "    print('Hace lo que quieras')\n",
    "else:\n",
    "    print('Podes tomar pero no comprar')\n",
    "    \n",
    "    "
   ]
  },
  {
   "cell_type": "markdown",
   "id": "3814d735",
   "metadata": {},
   "source": [
    "# Challenge 🤺 - 30m\n",
    "Escribir un programa en el que se pregunte al usuario por una temperatura (en grados Celsius), imprima la temperatura escrita, y luego clasificar la temperatura ingresada en los siguientes niveles:\n",
    "\n",
    "Entre -10 y 18 grados, que imprima \"Fresquete\".\n",
    "Entre 19 y 30 grados, que imprima \"Calor'i\".\n",
    "Entre 31 y 45 grados, que imprima \"Hakuuuuuu\".\n",
    "Para todo lo demás, imprimir \"Ñamano mba'e!\".\n"
   ]
  },
  {
   "cell_type": "code",
   "execution_count": null,
   "id": "c5d22895",
   "metadata": {},
   "outputs": [],
   "source": [
    "temperatura = float(input(\"Ingrese la temperatura\"))\n",
    "\n",
    "print(f'La temperatura es:{temperatura}C')\n",
    "if temperatura>=-10 and temperatura<=18:\n",
    "    print('Fresquete')\n",
    "elif temperatura>18 and temperatura<=30:\n",
    "    print('Calor\"i')\n",
    "elif temperatura>30 and temperatura<=45:\n",
    "    print('Hakuuu')\n",
    "else:\n",
    "    print('Nhamano mba\"e')"
   ]
  },
  {
   "cell_type": "markdown",
   "id": "5a24ed66",
   "metadata": {},
   "source": [
    "Challenge 🤺 - 20m\n",
    "Escribir un programa que almacene una contraseña en una variable, y pregunte al usuario por la contraseña hasta que introduzca la contraseña correcta.\n",
    "\n",
    "Cuando el usuario ingrese la contrasena correcta, imprimir un mensaje secreto."
   ]
  },
  {
   "cell_type": "code",
   "execution_count": null,
   "id": "218856dd",
   "metadata": {},
   "outputs": [],
   "source": [
    "password = 'basket'\n",
    "\n",
    "\n",
    "while True:\n",
    "    password_input = input('Ingrese la contrasenha:') \n",
    "    \n",
    "    if password_input == password:\n",
    "        print(\"La NBA es la mejor liga del mundo\")\n",
    "        break\n",
    "    else:\n",
    "        print(\"La contrasenha ingresada es incorrecta.\")"
   ]
  },
  {
   "cell_type": "markdown",
   "id": "f7d6a8e3",
   "metadata": {},
   "source": [
    "Challenge 🤺 - 20m\n",
    "Crear una lista de 5 elementos. Luego, seguir los siguientes pasos.\n",
    "\n",
    "Agregar un elemento al final de la lista.\n",
    "\n",
    "Modificar el segundo elemento.\n",
    "\n",
    "Eliminar el tercer elemento."
   ]
  },
  {
   "cell_type": "code",
   "execution_count": null,
   "id": "f72c5509",
   "metadata": {},
   "outputs": [],
   "source": [
    "componentes_pc = ['procesador' , 'ram' , 'almacenamiento' , 'disco duro' , ' placa madre']\n",
    "\n",
    "componentes_pc.append('tarjeta grafica')\n",
    "\n",
    "componentes_pc[1] = 'refrigeracion liquida'\n",
    "\n",
    "componentes_pc.pop(2) \n",
    "\n",
    "print(componentes_pc) "
   ]
  },
  {
   "cell_type": "markdown",
   "id": "354cdb75",
   "metadata": {},
   "source": [
    "Challenge 🤺 - 20m\n",
    "Escribir un programa que itere en un rango de 10 veces. Por cada iteracion multiplicar el iterador por dos e imprimir el resultado."
   ]
  },
  {
   "cell_type": "code",
   "execution_count": null,
   "id": "e7946ee5",
   "metadata": {},
   "outputs": [],
   "source": [
    "for i in range(10):\n",
    "    print(i*2)\n"
   ]
  },
  {
   "cell_type": "markdown",
   "id": "3cefbd8b",
   "metadata": {},
   "source": [
    "Challenge 🤺 - 20m\n",
    "Recorrer los elementos de una lista de marcas e imprimir cada marca solamente si tiene 6 letras o más."
   ]
  },
  {
   "cell_type": "code",
   "execution_count": null,
   "id": "f9e9cce6",
   "metadata": {},
   "outputs": [],
   "source": [
    "lista_marcas = ['adidas' , 'nike' , 'lenovo' , 'android', 'burger king']\n",
    "\n",
    "for marcas in lista_marcas:\n",
    "    \n",
    "    if(len(marcas)>=6):\n",
    "        print(marcas)"
   ]
  },
  {
   "cell_type": "code",
   "execution_count": null,
   "id": "8c7a1b50",
   "metadata": {},
   "outputs": [],
   "source": [
    "lista_marcas = ['adidas' , 'nike' , 'lenovo' , 'android', 'burger king']\n",
    "rango = len(lista_marcas)\n",
    "\n",
    "for i in range(rango):\n",
    "    \n",
    "    if(len(lista_marcas[i])>=6):\n",
    "         print(lista_marcas[i])"
   ]
  },
  {
   "cell_type": "markdown",
   "id": "19c7f2fa",
   "metadata": {},
   "source": [
    "Challenge 🤺 - 15m\n",
    "Solicitar al usuario que ingrese una frase.\n",
    "\n",
    "Imprimir un mensaje cada vez que se encuentre una letra \"o\"."
   ]
  },
  {
   "cell_type": "code",
   "execution_count": null,
   "id": "ab6a6c58",
   "metadata": {},
   "outputs": [
    {
     "name": "stdout",
     "output_type": "stream",
     "text": [
      "Hemos encontrado una letra O\n"
     ]
    }
   ],
   "source": [
    "frase=input('Ingrese una frase')\n",
    "\n",
    "for letra in frase:\n",
    "    if(letra=='o' or letra=='O'):\n",
    "        print('Hemos encontrado una letra O')"
   ]
  }
 ],
 "metadata": {
  "kernelspec": {
   "display_name": ".venv",
   "language": "python",
   "name": "python3"
  },
  "language_info": {
   "codemirror_mode": {
    "name": "ipython",
    "version": 3
   },
   "file_extension": ".py",
   "mimetype": "text/x-python",
   "name": "python",
   "nbconvert_exporter": "python",
   "pygments_lexer": "ipython3",
   "version": "3.12.3"
  }
 },
 "nbformat": 4,
 "nbformat_minor": 5
}
