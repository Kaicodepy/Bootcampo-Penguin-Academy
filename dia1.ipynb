{
 "cells": [
  {
   "cell_type": "code",
   "execution_count": null,
   "id": "604cae2b",
   "metadata": {},
   "outputs": [],
   "source": [
    "print('Hola Mundo')\n"
   ]
  },
  {
   "cell_type": "code",
   "execution_count": null,
   "id": "8d10d76a",
   "metadata": {},
   "outputs": [],
   "source": [
    "name = 'Ricardo Sanchez'\n",
    "age = 30\n",
    "city = 'Fernando de la Mora'\n",
    "\n",
    "print(name , age , city)"
   ]
  },
  {
   "cell_type": "markdown",
   "id": "ae08cadb",
   "metadata": {},
   "source": [
    "Challenge 🤺 - 20m\n",
    "Suma: asignar dos números en dos variables diferentes cantidad_de_manzanas y cantidad_de_naranjas. Luego sumar ambas variables en cantidad_de_frutas. Imprimir la última variable.\n",
    "\n",
    "Resta: asignar un valor numérico a la variable frutas_vendidas. Luego, asignar la resta entre cantidad_de_frutas y frutas_vendidas a la variable frutas_restantes. Imprimir la última variable."
   ]
  },
  {
   "cell_type": "code",
   "execution_count": null,
   "id": "783d85ee",
   "metadata": {},
   "outputs": [],
   "source": [
    "cantidad_de_manzanas = 20\n",
    "cantidad_de_naranjas = 30\n",
    "\n",
    "cantidad_de_frutas = cantidad_de_manzanas + cantidad_de_naranjas\n",
    "\n",
    "print('La cantidad de frutas es:',cantidad_de_frutas)\n",
    "\n",
    "frutas_vendidas= 15\n",
    "frutas_restantes = cantidad_de_frutas - frutas_vendidas\n",
    "print(\"Las Frutas restantes son:\", frutas_restantes) "
   ]
  },
  {
   "cell_type": "markdown",
   "id": "f5f7cc6b",
   "metadata": {},
   "source": [
    "## Challenge 🤺 - 15m\n",
    "\n",
    "Asignar el nombre y el apellido de tu compañera/o a las variables `nombre` y `apellido`. Luego, `imprimir` una frase, utilizando las variables.\n",
    "EJEMPLO: \"Hola. Me llamo Claudia Melgarejo. Mucho gusto.\""
   ]
  },
  {
   "cell_type": "code",
   "execution_count": null,
   "id": "60e0bf04",
   "metadata": {},
   "outputs": [],
   "source": [
    "nombre = 'Lucas'\n",
    "apellido = 'Davalos'\n",
    "\n",
    "print(f'Yo {nombre} {apellido} soy de la Ciudad de Fernando')"
   ]
  },
  {
   "cell_type": "markdown",
   "id": "d77958bb",
   "metadata": {},
   "source": [
    "Challenge 🤺 - 15m\n",
    "Solicitar al usuario ingresar dos números y almacenarlos en dos variables. Luego, imprimir la suma de los dos números."
   ]
  },
  {
   "cell_type": "code",
   "execution_count": null,
   "id": "05998077",
   "metadata": {},
   "outputs": [],
   "source": [
    "numero1 = int(input(\"Ingrese un numero\"))\n",
    "numero2 = int(input(\"Ingrese un numero\"))\n",
    "\n",
    "suma = numero1+numero2\n",
    "\n",
    "print(f'La suma de los dos numeros es:{suma}')"
   ]
  },
  {
   "cell_type": "markdown",
   "id": "2fbf9a6a",
   "metadata": {},
   "source": [
    "Challenge 🤺 - 20m\n",
    "Crear una función de un proceso que se les ocurra que tenga varios pasos.\n",
    "\n",
    "Ejecutar la función 3 veces."
   ]
  },
  {
   "cell_type": "code",
   "execution_count": null,
   "id": "9f2a8ad9",
   "metadata": {},
   "outputs": [],
   "source": [
    "def anho_anho_de_nacimiento():\n",
    "    name=input('Ingrese su nombre')\n",
    "    age=int(input('Ingrese su edad'))\n",
    "    print(f'El anho de nacimiento de {name} es:{2025-age}')\n",
    "\n",
    "persona1=anho_anho_de_nacimiento()\n",
    "persona2=anho_anho_de_nacimiento()\n",
    "persona3=anho_anho_de_nacimiento()\n"
   ]
  },
  {
   "cell_type": "code",
   "execution_count": null,
   "id": "5771950a",
   "metadata": {},
   "outputs": [],
   "source": []
  },
  {
   "cell_type": "markdown",
   "id": "fcef2bb0",
   "metadata": {},
   "source": [
    "Escribir una funcion que nos pregunte las caracteristicas de un elemento a comprar e imprima el elemento con sus caracteristicas."
   ]
  },
  {
   "cell_type": "code",
   "execution_count": null,
   "id": "150ddf6d",
   "metadata": {},
   "outputs": [
    {
     "name": "stdout",
     "output_type": "stream",
     "text": [
      "La computadora tiene el procesador Ryzen 5 5500, una memoria ram de 16, tiene un disco duro de 500gb\n"
     ]
    }
   ],
   "source": [
    "def comprar_pc(procesador, ram, almacenamiento):\n",
    "    print(f'La computadora tiene el procesador {procesador}, una memoria ram de {ram}, tiene un disco duro de {almacenamiento}')\n",
    "\n",
    "\n",
    "proce = input(\"Cual es el procesador de la computadora\")\n",
    "rm = input(\"Cuantos gb de Ram tiene la computadora\")\n",
    "alm = input()\n",
    "    \n",
    "comprar_pc(proce,rm,alm)"
   ]
  }
 ],
 "metadata": {
  "kernelspec": {
   "display_name": ".venv",
   "language": "python",
   "name": "python3"
  },
  "language_info": {
   "codemirror_mode": {
    "name": "ipython",
    "version": 3
   },
   "file_extension": ".py",
   "mimetype": "text/x-python",
   "name": "python",
   "nbconvert_exporter": "python",
   "pygments_lexer": "ipython3",
   "version": "3.12.3"
  }
 },
 "nbformat": 4,
 "nbformat_minor": 5
}
